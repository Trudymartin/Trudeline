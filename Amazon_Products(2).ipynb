{
  "cells": [
    {
      "cell_type": "code",
      "execution_count": null,
      "metadata": {
        "id": "iqYpdtKPkTfA"
      },
      "outputs": [],
      "source": []
    },
    {
      "cell_type": "code",
      "execution_count": null,
      "metadata": {
        "colab": {
          "base_uri": "https://localhost:8080/",
          "height": 765
        },
        "id": "2cc9fe26",
        "outputId": "f741325c-0cd7-4ae2-bda6-3ecd60256bf0"
      },
      "outputs": [
        {
          "data": {
            "application/vnd.google.colaboratory.intrinsic+json": {
              "summary": "{\n  \"name\": \"display(df\",\n  \"rows\": 5,\n  \"fields\": [\n    {\n      \"column\": \"Unnamed: 0\",\n      \"properties\": {\n        \"dtype\": \"number\",\n        \"std\": 1,\n        \"min\": 0,\n        \"max\": 4,\n        \"num_unique_values\": 5,\n        \"samples\": [\n          1,\n          4,\n          2\n        ],\n        \"semantic_type\": \"\",\n        \"description\": \"\"\n      }\n    },\n    {\n      \"column\": \"name\",\n      \"properties\": {\n        \"dtype\": \"string\",\n        \"num_unique_values\": 5,\n        \"samples\": [\n          \"LG 1.5 Ton 5 Star AI DUAL Inverter Split AC (Copper, Super Convertible 6-in-1 Cooling, HD Filter with Anti-Virus Protectio...\",\n          \"Carrier 1.5 Ton 3 Star Inverter Split AC (Copper,ESTER Dxi, 4-in-1 Flexicool Inverter, 2022 Model,R32,White)\",\n          \"LG 1 Ton 4 Star Ai Dual Inverter Split Ac (Copper, Super Convertible 6-In-1 Cooling, Hd Filter With Anti Virus Protection,...\"\n        ],\n        \"semantic_type\": \"\",\n        \"description\": \"\"\n      }\n    },\n    {\n      \"column\": \"main_category\",\n      \"properties\": {\n        \"dtype\": \"category\",\n        \"num_unique_values\": 1,\n        \"samples\": [\n          \"appliances\"\n        ],\n        \"semantic_type\": \"\",\n        \"description\": \"\"\n      }\n    },\n    {\n      \"column\": \"sub_category\",\n      \"properties\": {\n        \"dtype\": \"category\",\n        \"num_unique_values\": 1,\n        \"samples\": [\n          \"Air Conditioners\"\n        ],\n        \"semantic_type\": \"\",\n        \"description\": \"\"\n      }\n    },\n    {\n      \"column\": \"image\",\n      \"properties\": {\n        \"dtype\": \"string\",\n        \"num_unique_values\": 3,\n        \"samples\": [\n          \"https://m.media-amazon.com/images/I/31UISB90sYL._AC_UL320_.jpg\"\n        ],\n        \"semantic_type\": \"\",\n        \"description\": \"\"\n      }\n    },\n    {\n      \"column\": \"link\",\n      \"properties\": {\n        \"dtype\": \"string\",\n        \"num_unique_values\": 5,\n        \"samples\": [\n          \"https://www.amazon.in/LG-Convertible-Anti-Virus-Protection-RS-Q19YNZE/dp/B0BQ3MXML8/ref=sr_1_5?qid=1679134237&s=kitchen&sr=1-5\"\n        ],\n        \"semantic_type\": \"\",\n        \"description\": \"\"\n      }\n    },\n    {\n      \"column\": \"ratings\",\n      \"properties\": {\n        \"dtype\": \"string\",\n        \"num_unique_values\": 3,\n        \"samples\": [\n          \"4.2\"\n        ],\n        \"semantic_type\": \"\",\n        \"description\": \"\"\n      }\n    },\n    {\n      \"column\": \"no_of_ratings\",\n      \"properties\": {\n        \"dtype\": \"string\",\n        \"num_unique_values\": 5,\n        \"samples\": [\n          \"2,948\"\n        ],\n        \"semantic_type\": \"\",\n        \"description\": \"\"\n      }\n    },\n    {\n      \"column\": \"discount_price\",\n      \"properties\": {\n        \"dtype\": \"string\",\n        \"num_unique_values\": 4,\n        \"samples\": [\n          \"\\u20b946,490\"\n        ],\n        \"semantic_type\": \"\",\n        \"description\": \"\"\n      }\n    },\n    {\n      \"column\": \"actual_price\",\n      \"properties\": {\n        \"dtype\": \"string\",\n        \"num_unique_values\": 5,\n        \"samples\": [\n          \"\\u20b975,990\"\n        ],\n        \"semantic_type\": \"\",\n        \"description\": \"\"\n      }\n    }\n  ]\n}",
              "type": "dataframe"
            },
            "text/html": [
              "\n",
              "  <div id=\"df-aa07651e-d159-4512-b834-2506555b91b3\" class=\"colab-df-container\">\n",
              "    <div>\n",
              "<style scoped>\n",
              "    .dataframe tbody tr th:only-of-type {\n",
              "        vertical-align: middle;\n",
              "    }\n",
              "\n",
              "    .dataframe tbody tr th {\n",
              "        vertical-align: top;\n",
              "    }\n",
              "\n",
              "    .dataframe thead th {\n",
              "        text-align: right;\n",
              "    }\n",
              "</style>\n",
              "<table border=\"1\" class=\"dataframe\">\n",
              "  <thead>\n",
              "    <tr style=\"text-align: right;\">\n",
              "      <th></th>\n",
              "      <th>Unnamed: 0</th>\n",
              "      <th>name</th>\n",
              "      <th>main_category</th>\n",
              "      <th>sub_category</th>\n",
              "      <th>image</th>\n",
              "      <th>link</th>\n",
              "      <th>ratings</th>\n",
              "      <th>no_of_ratings</th>\n",
              "      <th>discount_price</th>\n",
              "      <th>actual_price</th>\n",
              "    </tr>\n",
              "  </thead>\n",
              "  <tbody>\n",
              "    <tr>\n",
              "      <th>0</th>\n",
              "      <td>0</td>\n",
              "      <td>Lloyd 1.5 Ton 3 Star Inverter Split Ac (5 In 1...</td>\n",
              "      <td>appliances</td>\n",
              "      <td>Air Conditioners</td>\n",
              "      <td>https://m.media-amazon.com/images/I/31UISB90sY...</td>\n",
              "      <td>https://www.amazon.in/Lloyd-Inverter-Convertib...</td>\n",
              "      <td>4.2</td>\n",
              "      <td>2,255</td>\n",
              "      <td>₹32,999</td>\n",
              "      <td>₹58,990</td>\n",
              "    </tr>\n",
              "    <tr>\n",
              "      <th>1</th>\n",
              "      <td>1</td>\n",
              "      <td>LG 1.5 Ton 5 Star AI DUAL Inverter Split AC (C...</td>\n",
              "      <td>appliances</td>\n",
              "      <td>Air Conditioners</td>\n",
              "      <td>https://m.media-amazon.com/images/I/51JFb7FctD...</td>\n",
              "      <td>https://www.amazon.in/LG-Convertible-Anti-Viru...</td>\n",
              "      <td>4.2</td>\n",
              "      <td>2,948</td>\n",
              "      <td>₹46,490</td>\n",
              "      <td>₹75,990</td>\n",
              "    </tr>\n",
              "    <tr>\n",
              "      <th>2</th>\n",
              "      <td>2</td>\n",
              "      <td>LG 1 Ton 4 Star Ai Dual Inverter Split Ac (Cop...</td>\n",
              "      <td>appliances</td>\n",
              "      <td>Air Conditioners</td>\n",
              "      <td>https://m.media-amazon.com/images/I/51JFb7FctD...</td>\n",
              "      <td>https://www.amazon.in/LG-Inverter-Convertible-...</td>\n",
              "      <td>4.2</td>\n",
              "      <td>1,206</td>\n",
              "      <td>₹34,490</td>\n",
              "      <td>₹61,990</td>\n",
              "    </tr>\n",
              "    <tr>\n",
              "      <th>3</th>\n",
              "      <td>3</td>\n",
              "      <td>LG 1.5 Ton 3 Star AI DUAL Inverter Split AC (C...</td>\n",
              "      <td>appliances</td>\n",
              "      <td>Air Conditioners</td>\n",
              "      <td>https://m.media-amazon.com/images/I/51JFb7FctD...</td>\n",
              "      <td>https://www.amazon.in/LG-Convertible-Anti-Viru...</td>\n",
              "      <td>4.0</td>\n",
              "      <td>69</td>\n",
              "      <td>₹37,990</td>\n",
              "      <td>₹68,990</td>\n",
              "    </tr>\n",
              "    <tr>\n",
              "      <th>4</th>\n",
              "      <td>4</td>\n",
              "      <td>Carrier 1.5 Ton 3 Star Inverter Split AC (Copp...</td>\n",
              "      <td>appliances</td>\n",
              "      <td>Air Conditioners</td>\n",
              "      <td>https://m.media-amazon.com/images/I/41lrtqXPiW...</td>\n",
              "      <td>https://www.amazon.in/Carrier-Inverter-Split-C...</td>\n",
              "      <td>4.1</td>\n",
              "      <td>630</td>\n",
              "      <td>₹34,490</td>\n",
              "      <td>₹67,790</td>\n",
              "    </tr>\n",
              "  </tbody>\n",
              "</table>\n",
              "</div>\n",
              "    <div class=\"colab-df-buttons\">\n",
              "\n",
              "  <div class=\"colab-df-container\">\n",
              "    <button class=\"colab-df-convert\" onclick=\"convertToInteractive('df-aa07651e-d159-4512-b834-2506555b91b3')\"\n",
              "            title=\"Convert this dataframe to an interactive table.\"\n",
              "            style=\"display:none;\">\n",
              "\n",
              "  <svg xmlns=\"http://www.w3.org/2000/svg\" height=\"24px\" viewBox=\"0 -960 960 960\">\n",
              "    <path d=\"M120-120v-720h720v720H120Zm60-500h600v-160H180v160Zm220 220h160v-160H400v160Zm0 220h160v-160H400v160ZM180-400h160v-160H180v160Zm440 0h160v-160H620v160ZM180-180h160v-160H180v160Zm440 0h160v-160H620v160Z\"/>\n",
              "  </svg>\n",
              "    </button>\n",
              "\n",
              "  <style>\n",
              "    .colab-df-container {\n",
              "      display:flex;\n",
              "      gap: 12px;\n",
              "    }\n",
              "\n",
              "    .colab-df-convert {\n",
              "      background-color: #E8F0FE;\n",
              "      border: none;\n",
              "      border-radius: 50%;\n",
              "      cursor: pointer;\n",
              "      display: none;\n",
              "      fill: #1967D2;\n",
              "      height: 32px;\n",
              "      padding: 0 0 0 0;\n",
              "      width: 32px;\n",
              "    }\n",
              "\n",
              "    .colab-df-convert:hover {\n",
              "      background-color: #E2EBFA;\n",
              "      box-shadow: 0px 1px 2px rgba(60, 64, 67, 0.3), 0px 1px 3px 1px rgba(60, 64, 67, 0.15);\n",
              "      fill: #174EA6;\n",
              "    }\n",
              "\n",
              "    .colab-df-buttons div {\n",
              "      margin-bottom: 4px;\n",
              "    }\n",
              "\n",
              "    [theme=dark] .colab-df-convert {\n",
              "      background-color: #3B4455;\n",
              "      fill: #D2E3FC;\n",
              "    }\n",
              "\n",
              "    [theme=dark] .colab-df-convert:hover {\n",
              "      background-color: #434B5C;\n",
              "      box-shadow: 0px 1px 3px 1px rgba(0, 0, 0, 0.15);\n",
              "      filter: drop-shadow(0px 1px 2px rgba(0, 0, 0, 0.3));\n",
              "      fill: #FFFFFF;\n",
              "    }\n",
              "  </style>\n",
              "\n",
              "    <script>\n",
              "      const buttonEl =\n",
              "        document.querySelector('#df-aa07651e-d159-4512-b834-2506555b91b3 button.colab-df-convert');\n",
              "      buttonEl.style.display =\n",
              "        google.colab.kernel.accessAllowed ? 'block' : 'none';\n",
              "\n",
              "      async function convertToInteractive(key) {\n",
              "        const element = document.querySelector('#df-aa07651e-d159-4512-b834-2506555b91b3');\n",
              "        const dataTable =\n",
              "          await google.colab.kernel.invokeFunction('convertToInteractive',\n",
              "                                                    [key], {});\n",
              "        if (!dataTable) return;\n",
              "\n",
              "        const docLinkHtml = 'Like what you see? Visit the ' +\n",
              "          '<a target=\"_blank\" href=https://colab.research.google.com/notebooks/data_table.ipynb>data table notebook</a>'\n",
              "          + ' to learn more about interactive tables.';\n",
              "        element.innerHTML = '';\n",
              "        dataTable['output_type'] = 'display_data';\n",
              "        await google.colab.output.renderOutput(dataTable, element);\n",
              "        const docLink = document.createElement('div');\n",
              "        docLink.innerHTML = docLinkHtml;\n",
              "        element.appendChild(docLink);\n",
              "      }\n",
              "    </script>\n",
              "  </div>\n",
              "\n",
              "\n",
              "    <div id=\"df-db59812a-aa13-4c2a-a0d9-91f6cd6930d6\">\n",
              "      <button class=\"colab-df-quickchart\" onclick=\"quickchart('df-db59812a-aa13-4c2a-a0d9-91f6cd6930d6')\"\n",
              "                title=\"Suggest charts\"\n",
              "                style=\"display:none;\">\n",
              "\n",
              "<svg xmlns=\"http://www.w3.org/2000/svg\" height=\"24px\"viewBox=\"0 0 24 24\"\n",
              "     width=\"24px\">\n",
              "    <g>\n",
              "        <path d=\"M19 3H5c-1.1 0-2 .9-2 2v14c0 1.1.9 2 2 2h14c1.1 0 2-.9 2-2V5c0-1.1-.9-2-2-2zM9 17H7v-7h2v7zm4 0h-2V7h2v10zm4 0h-2v-4h2v4z\"/>\n",
              "    </g>\n",
              "</svg>\n",
              "      </button>\n",
              "\n",
              "<style>\n",
              "  .colab-df-quickchart {\n",
              "      --bg-color: #E8F0FE;\n",
              "      --fill-color: #1967D2;\n",
              "      --hover-bg-color: #E2EBFA;\n",
              "      --hover-fill-color: #174EA6;\n",
              "      --disabled-fill-color: #AAA;\n",
              "      --disabled-bg-color: #DDD;\n",
              "  }\n",
              "\n",
              "  [theme=dark] .colab-df-quickchart {\n",
              "      --bg-color: #3B4455;\n",
              "      --fill-color: #D2E3FC;\n",
              "      --hover-bg-color: #434B5C;\n",
              "      --hover-fill-color: #FFFFFF;\n",
              "      --disabled-bg-color: #3B4455;\n",
              "      --disabled-fill-color: #666;\n",
              "  }\n",
              "\n",
              "  .colab-df-quickchart {\n",
              "    background-color: var(--bg-color);\n",
              "    border: none;\n",
              "    border-radius: 50%;\n",
              "    cursor: pointer;\n",
              "    display: none;\n",
              "    fill: var(--fill-color);\n",
              "    height: 32px;\n",
              "    padding: 0;\n",
              "    width: 32px;\n",
              "  }\n",
              "\n",
              "  .colab-df-quickchart:hover {\n",
              "    background-color: var(--hover-bg-color);\n",
              "    box-shadow: 0 1px 2px rgba(60, 64, 67, 0.3), 0 1px 3px 1px rgba(60, 64, 67, 0.15);\n",
              "    fill: var(--button-hover-fill-color);\n",
              "  }\n",
              "\n",
              "  .colab-df-quickchart-complete:disabled,\n",
              "  .colab-df-quickchart-complete:disabled:hover {\n",
              "    background-color: var(--disabled-bg-color);\n",
              "    fill: var(--disabled-fill-color);\n",
              "    box-shadow: none;\n",
              "  }\n",
              "\n",
              "  .colab-df-spinner {\n",
              "    border: 2px solid var(--fill-color);\n",
              "    border-color: transparent;\n",
              "    border-bottom-color: var(--fill-color);\n",
              "    animation:\n",
              "      spin 1s steps(1) infinite;\n",
              "  }\n",
              "\n",
              "  @keyframes spin {\n",
              "    0% {\n",
              "      border-color: transparent;\n",
              "      border-bottom-color: var(--fill-color);\n",
              "      border-left-color: var(--fill-color);\n",
              "    }\n",
              "    20% {\n",
              "      border-color: transparent;\n",
              "      border-left-color: var(--fill-color);\n",
              "      border-top-color: var(--fill-color);\n",
              "    }\n",
              "    30% {\n",
              "      border-color: transparent;\n",
              "      border-left-color: var(--fill-color);\n",
              "      border-top-color: var(--fill-color);\n",
              "      border-right-color: var(--fill-color);\n",
              "    }\n",
              "    40% {\n",
              "      border-color: transparent;\n",
              "      border-right-color: var(--fill-color);\n",
              "      border-top-color: var(--fill-color);\n",
              "    }\n",
              "    60% {\n",
              "      border-color: transparent;\n",
              "      border-right-color: var(--fill-color);\n",
              "    }\n",
              "    80% {\n",
              "      border-color: transparent;\n",
              "      border-right-color: var(--fill-color);\n",
              "      border-bottom-color: var(--fill-color);\n",
              "    }\n",
              "    90% {\n",
              "      border-color: transparent;\n",
              "      border-bottom-color: var(--fill-color);\n",
              "    }\n",
              "  }\n",
              "</style>\n",
              "\n",
              "      <script>\n",
              "        async function quickchart(key) {\n",
              "          const quickchartButtonEl =\n",
              "            document.querySelector('#' + key + ' button');\n",
              "          quickchartButtonEl.disabled = true;  // To prevent multiple clicks.\n",
              "          quickchartButtonEl.classList.add('colab-df-spinner');\n",
              "          try {\n",
              "            const charts = await google.colab.kernel.invokeFunction(\n",
              "                'suggestCharts', [key], {});\n",
              "          } catch (error) {\n",
              "            console.error('Error during call to suggestCharts:', error);\n",
              "          }\n",
              "          quickchartButtonEl.classList.remove('colab-df-spinner');\n",
              "          quickchartButtonEl.classList.add('colab-df-quickchart-complete');\n",
              "        }\n",
              "        (() => {\n",
              "          let quickchartButtonEl =\n",
              "            document.querySelector('#df-db59812a-aa13-4c2a-a0d9-91f6cd6930d6 button');\n",
              "          quickchartButtonEl.style.display =\n",
              "            google.colab.kernel.accessAllowed ? 'block' : 'none';\n",
              "        })();\n",
              "      </script>\n",
              "    </div>\n",
              "\n",
              "    </div>\n",
              "  </div>\n"
            ],
            "text/plain": [
              "   Unnamed: 0                                               name  \\\n",
              "0           0  Lloyd 1.5 Ton 3 Star Inverter Split Ac (5 In 1...   \n",
              "1           1  LG 1.5 Ton 5 Star AI DUAL Inverter Split AC (C...   \n",
              "2           2  LG 1 Ton 4 Star Ai Dual Inverter Split Ac (Cop...   \n",
              "3           3  LG 1.5 Ton 3 Star AI DUAL Inverter Split AC (C...   \n",
              "4           4  Carrier 1.5 Ton 3 Star Inverter Split AC (Copp...   \n",
              "\n",
              "  main_category      sub_category  \\\n",
              "0    appliances  Air Conditioners   \n",
              "1    appliances  Air Conditioners   \n",
              "2    appliances  Air Conditioners   \n",
              "3    appliances  Air Conditioners   \n",
              "4    appliances  Air Conditioners   \n",
              "\n",
              "                                               image  \\\n",
              "0  https://m.media-amazon.com/images/I/31UISB90sY...   \n",
              "1  https://m.media-amazon.com/images/I/51JFb7FctD...   \n",
              "2  https://m.media-amazon.com/images/I/51JFb7FctD...   \n",
              "3  https://m.media-amazon.com/images/I/51JFb7FctD...   \n",
              "4  https://m.media-amazon.com/images/I/41lrtqXPiW...   \n",
              "\n",
              "                                                link ratings no_of_ratings  \\\n",
              "0  https://www.amazon.in/Lloyd-Inverter-Convertib...     4.2         2,255   \n",
              "1  https://www.amazon.in/LG-Convertible-Anti-Viru...     4.2         2,948   \n",
              "2  https://www.amazon.in/LG-Inverter-Convertible-...     4.2         1,206   \n",
              "3  https://www.amazon.in/LG-Convertible-Anti-Viru...     4.0            69   \n",
              "4  https://www.amazon.in/Carrier-Inverter-Split-C...     4.1           630   \n",
              "\n",
              "  discount_price actual_price  \n",
              "0        ₹32,999      ₹58,990  \n",
              "1        ₹46,490      ₹75,990  \n",
              "2        ₹34,490      ₹61,990  \n",
              "3        ₹37,990      ₹68,990  \n",
              "4        ₹34,490      ₹67,790  "
            ]
          },
          "metadata": {},
          "output_type": "display_data"
        }
      ],
      "source": [
        "import pandas as pd\n",
        "\n",
        "df = pd.read_csv('/content/Amazon-Products.csv')\n",
        "display(df.head())"
      ]
    },
    {
      "cell_type": "code",
      "execution_count": null,
      "metadata": {
        "colab": {
          "base_uri": "https://localhost:8080/",
          "height": 498
        },
        "id": "466721ef",
        "outputId": "6209a81c-a533-4990-a69b-a094a04fde93"
      },
      "outputs": [
        {
          "data": {
            "image/png": "[encoded data removed]",
            "text/plain": [
              "<Figure size 1000x600 with 1 Axes>"
            ]
          },
          "metadata": {},
          "output_type": "display_data"
        }
      ],
      "source": [
        "import matplotlib.pyplot as plt\n",
        "import seaborn as sns\n",
        "\n",
        "# Convert 'ratings' to numeric, coercing errors\n",
        "df['ratings'] = pd.to_numeric(df['ratings'], errors='coerce')\n",
        "\n",
        "# Drop rows with NaN ratings for plotting\n",
        "ratings_df = df.dropna(subset=['ratings'])\n",
        "\n",
        "plt.figure(figsize=(10, 6))\n",
        "sns.histplot(ratings_df['ratings'], bins=20, kde=True)\n",
        "plt.title('Distribution of Product Ratings')\n",
        "plt.xlabel('Rating')\n",
        "plt.ylabel('Frequency')\n",
        "plt.show()"
      ]
    },
    {
      "cell_type": "code",
      "execution_count": null,
      "metadata": {
        "colab": {
          "base_uri": "https://localhost:8080/"
        },
        "id": "62624513",
        "outputId": "0d50e325-e8b9-448f-bcdc-dffe2f6ff5a0"
      },
      "outputs": [
        {
          "name": "stdout",
          "output_type": "stream",
          "text": [
            "Requirement already satisfied: pyspark in /usr/local/lib/python3.12/dist-packages (3.5.1)\n",
            "Requirement already satisfied: py4j==0.10.9.7 in /usr/local/lib/python3.12/dist-packages (from pyspark) (0.10.9.7)\n"
          ]
        }
      ],
      "source": [
        "!pip install pyspark"
      ]
    },
    {
      "cell_type": "code",
      "execution_count": null,
      "metadata": {
        "colab": {
          "base_uri": "https://localhost:8080/"
        },
        "id": "295b04ca",
        "outputId": "c6a3219d-5deb-4478-9b9f-7c0e27b8f2b5"
      },
      "outputs": [
        {
          "name": "stdout",
          "output_type": "stream",
          "text": [
            "None\n"
          ]
        }
      ],
      "source": [
        "import os\n",
        "java_home = os.environ.get('JAVA_HOME')\n",
        "print(java_home)"
      ]
    },
    {
      "cell_type": "code",
      "execution_count": null,
      "metadata": {
        "colab": {
          "base_uri": "https://localhost:8080/"
        },
        "id": "45914e0d",
        "outputId": "76371e19-d617-4055-b86b-4881315f79dc"
      },
      "outputs": [
        {
          "name": "stdout",
          "output_type": "stream",
          "text": [
            "SparkSession created successfully!\n"
          ]
        }
      ],
      "source": [
        "from pyspark.sql import SparkSession\n",
        "\n",
        "# Initialize SparkSession\n",
        "spark = SparkSession.builder \\\n",
        "    .appName(\"AmazonSentimentAnalysis\") \\\n",
        "    .getOrCreate()\n",
        "\n",
        "print(\"SparkSession created successfully!\")"
      ]
    },
    {
      "cell_type": "code",
      "execution_count": null,
      "metadata": {
        "colab": {
          "base_uri": "https://localhost:8080/"
        },
        "id": "e8933e9b",
        "outputId": "34777c2c-d97b-437b-bee4-fa7398c2caef"
      },
      "outputs": [
        {
          "name": "stdout",
          "output_type": "stream",
          "text": [
            "root\n",
            " |-- _c0: integer (nullable = true)\n",
            " |-- name: string (nullable = true)\n",
            " |-- main_category: string (nullable = true)\n",
            " |-- sub_category: string (nullable = true)\n",
            " |-- image: string (nullable = true)\n",
            " |-- link: string (nullable = true)\n",
            " |-- ratings: string (nullable = true)\n",
            " |-- no_of_ratings: string (nullable = true)\n",
            " |-- discount_price: string (nullable = true)\n",
            " |-- actual_price: string (nullable = true)\n",
            "\n",
            "+---+--------------------+-------------+----------------+--------------------+--------------------+-------+-------------+--------------+------------+\n",
            "|_c0|                name|main_category|    sub_category|               image|                link|ratings|no_of_ratings|discount_price|actual_price|\n",
            "+---+--------------------+-------------+----------------+--------------------+--------------------+-------+-------------+--------------+------------+\n",
            "|  0|Lloyd 1.5 Ton 3 S...|   appliances|Air Conditioners|https://m.media-a...|https://www.amazo...|    4.2|        2,255|       ₹32,999|     ₹58,990|\n",
            "|  1|LG 1.5 Ton 5 Star...|   appliances|Air Conditioners|https://m.media-a...|https://www.amazo...|    4.2|        2,948|       ₹46,490|     ₹75,990|\n",
            "|  2|LG 1 Ton 4 Star A...|   appliances|Air Conditioners|https://m.media-a...|https://www.amazo...|    4.2|        1,206|       ₹34,490|     ₹61,990|\n",
            "|  3|LG 1.5 Ton 3 Star...|   appliances|Air Conditioners|https://m.media-a...|https://www.amazo...|    4.0|           69|       ₹37,990|     ₹68,990|\n",
            "|  4|Carrier 1.5 Ton 3...|   appliances|Air Conditioners|https://m.media-a...|https://www.amazo...|    4.1|          630|       ₹34,490|     ₹67,790|\n",
            "+---+--------------------+-------------+----------------+--------------------+--------------------+-------+-------------+--------------+------------+\n",
            "only showing top 5 rows\n",
            "\n"
          ]
        }
      ],
      "source": [
        "# Load the dataset into a Spark DataFrame\n",
        "spark_df = spark.read.csv('/content/Amazon-Products.csv', header=True, inferSchema=True)\n",
        "\n",
        "# Display the schema and the first few rows of the Spark DataFrame\n",
        "spark_df.printSchema()\n",
        "spark_df.show(5)"
      ]
    },
    {
      "cell_type": "code",
      "execution_count": null,
      "metadata": {
        "colab": {
          "base_uri": "https://localhost:8080/"
        },
        "id": "a9e39dd7",
        "outputId": "15d4b0a5-8ddd-430e-9b2c-4fcf4dea11cb"
      },
      "outputs": [
        {
          "name": "stdout",
          "output_type": "stream",
          "text": [
            "Count of null values in 'name' column before dropping:\n",
            "+--------------+\n",
            "|non_null_count|\n",
            "+--------------+\n",
            "|        551585|\n",
            "+--------------+\n",
            "\n",
            "Count of null values in 'name' column after dropping:\n",
            "+--------------+\n",
            "|non_null_count|\n",
            "+--------------+\n",
            "|        551585|\n",
            "+--------------+\n",
            "\n",
            "+--------------------+\n",
            "|                name|\n",
            "+--------------------+\n",
            "|Lloyd 1.5 Ton 3 S...|\n",
            "|LG 1.5 Ton 5 Star...|\n",
            "|LG 1 Ton 4 Star A...|\n",
            "|LG 1.5 Ton 3 Star...|\n",
            "|Carrier 1.5 Ton 3...|\n",
            "+--------------------+\n",
            "only showing top 5 rows\n",
            "\n"
          ]
        }
      ],
      "source": [
        "from pyspark.sql.functions import col, count\n",
        "\n",
        "# Check for null values in the 'name' column\n",
        "print(\"Count of null values in 'name' column before dropping:\")\n",
        "spark_df.select(count(col(\"name\")).alias(\"non_null_count\")).show()\n",
        "spark_df.filter(col(\"name\").isNull()).count()\n",
        "\n",
        "# Drop rows where 'name' is null, as it's essential for sentiment analysis\n",
        "processed_spark_df = spark_df.dropna(subset=['name'])\n",
        "\n",
        "# Verify null values in the 'name' column after dropping\n",
        "print(\"Count of null values in 'name' column after dropping:\")\n",
        "processed_spark_df.select(count(col(\"name\")).alias(\"non_null_count\")).show()\n",
        "processed_spark_df.filter(col(\"name\").isNull()).count()\n",
        "\n",
        "# Select the 'name' column for further text processing\n",
        "text_data = processed_spark_df.select(\"name\")\n",
        "\n",
        "text_data.show(5)"
      ]
    },
    {
      "cell_type": "code",
      "execution_count": null,
      "metadata": {
        "colab": {
          "base_uri": "https://localhost:8080/"
        },
        "id": "0bd9eff9",
        "outputId": "597b9ae5-282c-4915-a616-f16d83e5eb7d"
      },
      "outputs": [
        {
          "name": "stdout",
          "output_type": "stream",
          "text": [
            "+--------------------+--------------------+--------------------+\n",
            "|                name|               words|      filtered_words|\n",
            "+--------------------+--------------------+--------------------+\n",
            "|Lloyd 1.5 Ton 3 S...|[lloyd, 1.5, ton,...|[lloyd, 1.5, ton,...|\n",
            "|LG 1.5 Ton 5 Star...|[lg, 1.5, ton, 5,...|[lg, 1.5, ton, 5,...|\n",
            "|LG 1 Ton 4 Star A...|[lg, 1, ton, 4, s...|[lg, 1, ton, 4, s...|\n",
            "|LG 1.5 Ton 3 Star...|[lg, 1.5, ton, 3,...|[lg, 1.5, ton, 3,...|\n",
            "|Carrier 1.5 Ton 3...|[carrier, 1.5, to...|[carrier, 1.5, to...|\n",
            "+--------------------+--------------------+--------------------+\n",
            "only showing top 5 rows\n",
            "\n"
          ]
        }
      ],
      "source": [
        "from pyspark.ml.feature import Tokenizer, StopWordsRemover\n",
        "\n",
        "# Tokenize the 'name' column\n",
        "tokenizer = Tokenizer(inputCol=\"name\", outputCol=\"words\")\n",
        "words_df = tokenizer.transform(text_data)\n",
        "\n",
        "# Remove stop words\n",
        "remover = StopWordsRemover(inputCol=\"words\", outputCol=\"filtered_words\")\n",
        "filtered_words_df = remover.transform(words_df)\n",
        "\n",
        "# Display the results\n",
        "filtered_words_df.show(5)"
      ]
    },
    {
      "cell_type": "code",
      "execution_count": null,
      "metadata": {
        "colab": {
          "base_uri": "https://localhost:8080/"
        },
        "id": "d0a7eb5f",
        "outputId": "dbe9d12f-f5e8-4e03-bf55-8a3513777773"
      },
      "outputs": [
        {
          "name": "stdout",
          "output_type": "stream",
          "text": [
            "+-----------------------------------------------------------------------------------------------------------------------------+------------------------------------------------------------------------------------------------------------------------------------------------+---------------+\n",
            "|name                                                                                                                         |filtered_words                                                                                                                                  |sentiment_score|\n",
            "+-----------------------------------------------------------------------------------------------------------------------------+------------------------------------------------------------------------------------------------------------------------------------------------+---------------+\n",
            "|Lloyd 1.5 Ton 3 Star Inverter Split Ac (5 In 1 Convertible, Copper, Anti-Viral + Pm 2.5 Filter, 2023 Model, White, Gls18I3...|[lloyd, 1.5, ton, 3, star, inverter, split, ac, (5, 1, convertible,, copper,, anti-viral, +, pm, 2.5, filter,, 2023, model,, white,, gls18i3...]|0              |\n",
            "|LG 1.5 Ton 5 Star AI DUAL Inverter Split AC (Copper, Super Convertible 6-in-1 Cooling, HD Filter with Anti-Virus Protectio...|[lg, 1.5, ton, 5, star, ai, dual, inverter, split, ac, (copper,, super, convertible, 6-in-1, cooling,, hd, filter, anti-virus, protectio...]    |0              |\n",
            "|LG 1 Ton 4 Star Ai Dual Inverter Split Ac (Copper, Super Convertible 6-In-1 Cooling, Hd Filter With Anti Virus Protection,...|[lg, 1, ton, 4, star, ai, dual, inverter, split, ac, (copper,, super, convertible, 6-in-1, cooling,, hd, filter, anti, virus, protection,...]   |0              |\n",
            "|LG 1.5 Ton 3 Star AI DUAL Inverter Split AC (Copper, Super Convertible 6-in-1 Cooling, HD Filter with Anti-Virus Protectio...|[lg, 1.5, ton, 3, star, ai, dual, inverter, split, ac, (copper,, super, convertible, 6-in-1, cooling,, hd, filter, anti-virus, protectio...]    |0              |\n",
            "|Carrier 1.5 Ton 3 Star Inverter Split AC (Copper,ESTER Dxi, 4-in-1 Flexicool Inverter, 2022 Model,R32,White)                 |[carrier, 1.5, ton, 3, star, inverter, split, ac, (copper,ester, dxi,, 4-in-1, flexicool, inverter,, 2022, model,r32,white)]                    |0              |\n",
            "|Voltas 1.4 Ton 3 Star Inverter Split AC(Copper, Adjustable Cooling, Anti-dust Filter, 2023 Model, 173V Vectra Platina, White)|[voltas, 1.4, ton, 3, star, inverter, split, ac(copper,, adjustable, cooling,, anti-dust, filter,, 2023, model,, 173v, vectra, platina,, white)]|0              |\n",
            "|Lloyd 1.0 Ton 3 Star Inverter Split Ac (5 In 1 Convertible, Copper, Anti-Viral + Pm 2.5 Filter, 2023 Model, White With Chr...|[lloyd, 1.0, ton, 3, star, inverter, split, ac, (5, 1, convertible,, copper,, anti-viral, +, pm, 2.5, filter,, 2023, model,, white, chr...]     |0              |\n",
            "|Lloyd 1.5 Ton 5 Star Inverter Split Ac (5 In 1 Convertible, Copper, Anti-Viral + Pm 2.5 Filter, 2023 Model, White With Chr...|[lloyd, 1.5, ton, 5, star, inverter, split, ac, (5, 1, convertible,, copper,, anti-viral, +, pm, 2.5, filter,, 2023, model,, white, chr...]     |0              |\n",
            "|Carrier 1 Ton 3 Star AI Flexicool Inverter Split AC (Copper, Convertible 4-in-1 Cooling,Dual Filtration with HD & PM 2.5 F...|[carrier, 1, ton, 3, star, ai, flexicool, inverter, split, ac, (copper,, convertible, 4-in-1, cooling,dual, filtration, hd, &, pm, 2.5, f...]   |0              |\n",
            "|Voltas 1.5 Ton, 5 Star, Inverter Split AC(Copper, 4-in-1 Adjustable Mode, Anti-dust Filter, 2023 Model, 185V DAZJ, White)    |[voltas, 1.5, ton,, 5, star,, inverter, split, ac(copper,, 4-in-1, adjustable, mode,, anti-dust, filter,, 2023, model,, 185v, dazj,, white)]    |0              |\n",
            "+-----------------------------------------------------------------------------------------------------------------------------+------------------------------------------------------------------------------------------------------------------------------------------------+---------------+\n",
            "only showing top 10 rows\n",
            "\n"
          ]
        }
      ],
      "source": [
        "from pyspark.sql.functions import udf, col\n",
        "from pyspark.sql.types import IntegerType\n",
        "\n",
        "# Define lists of positive and negative keywords (you can expand these lists)\n",
        "positive_keywords = [\"great\", \"excellent\", \"amazing\", \"best\", \"love\", \" अधिकारिक \", \" असली \", \" अच्छा \", \" बढ़िया \"]\n",
        "negative_keywords = [\"bad\", \"poor\", \"terrible\", \"worst\", \"disappointing\", \" खराब \", \" बुरा \"]\n",
        "\n",
        "# Create a UDF to determine sentiment based on keywords\n",
        "def simple_sentiment_udf(words):\n",
        "    if words is None:\n",
        "        return 0\n",
        "    sentiment = 0\n",
        "    for word in words:\n",
        "        if word.lower() in positive_keywords:\n",
        "            sentiment += 1\n",
        "        elif word.lower() in negative_keywords:\n",
        "            sentiment -= 1\n",
        "    return sentiment\n",
        "\n",
        "# Register the UDF\n",
        "sentiment_analyzer = udf(simple_sentiment_udf, IntegerType())\n",
        "\n",
        "# Apply the sentiment analysis UDF to the DataFrame\n",
        "sentiment_df = filtered_words_df.withColumn(\"sentiment_score\", sentiment_analyzer(col(\"filtered_words\")))\n",
        "\n",
        "# Display the results with sentiment scores\n",
        "sentiment_df.select(\"name\", \"filtered_words\", \"sentiment_score\").show(10, truncate=False)"
      ]
    },
    {
      "cell_type": "code",
      "execution_count": null,
      "metadata": {
        "colab": {
          "base_uri": "https://localhost:8080/"
        },
        "id": "444eba93",
        "outputId": "cbfdc324-a55c-42c0-dc07-9cc2198d9fb2"
      },
      "outputs": [
        {
          "name": "stdout",
          "output_type": "stream",
          "text": [
            "Sentiment Score Distribution:\n",
            "+---------------+------+\n",
            "|sentiment_score| count|\n",
            "+---------------+------+\n",
            "|             -3|     1|\n",
            "|             -2|     1|\n",
            "|             -1|    52|\n",
            "|              0|547466|\n",
            "|              1|  3947|\n",
            "|              2|   111|\n",
            "|              3|     7|\n",
            "+---------------+------+\n",
            "\n",
            "Sentiment Score Summary Statistics:\n",
            "+-------+--------------------+\n",
            "|summary|     sentiment_score|\n",
            "+-------+--------------------+\n",
            "|  count|              551585|\n",
            "|   mean|0.007492952128864998|\n",
            "| stddev| 0.09020323735762827|\n",
            "|    min|                  -3|\n",
            "|    max|                   3|\n",
            "+-------+--------------------+\n",
            "\n"
          ]
        }
      ],
      "source": [
        "# Analyze the distribution of sentiment scores\n",
        "print(\"Sentiment Score Distribution:\")\n",
        "sentiment_df.groupBy(\"sentiment_score\").count().orderBy(\"sentiment_score\").show()\n",
        "\n",
        "# Calculate summary statistics for sentiment scores\n",
        "print(\"Sentiment Score Summary Statistics:\")\n",
        "sentiment_df.select(\"sentiment_score\").describe().show()"
      ]
    },
    {
      "cell_type": "code",
      "execution_count": null,
      "metadata": {
        "colab": {
          "base_uri": "https://localhost:8080/",
          "height": 605
        },
        "id": "241b452b",
        "outputId": "cf09c499-8bae-4de8-c265-62e888830cb6"
      },
      "outputs": [
        {
          "name": "stderr",
          "output_type": "stream",
          "text": [
            "/tmp/ipython-input-3126622700.py:9: FutureWarning: \n",
            "\n",
            "Passing `palette` without assigning `hue` is deprecated and will be removed in v0.14.0. Assign the `x` variable to `hue` and set `legend=False` for the same effect.\n",
            "\n",
            "  sns.barplot(x='sentiment_score', y='count', data=sentiment_counts_pd, palette='viridis')\n"
          ]
        },
        {
          "data": {
            "image/png": "[encoded data removed]",
            "text/plain": [
              "<Figure size 1000x600 with 1 Axes>"
            ]
          },
          "metadata": {},
          "output_type": "display_data"
        }
      ],
      "source": [
        "import matplotlib.pyplot as plt\n",
        "import seaborn as sns\n",
        "\n",
        "# Collect the sentiment score counts from Spark to pandas\n",
        "sentiment_counts_pd = sentiment_df.groupBy(\"sentiment_score\").count().orderBy(\"sentiment_score\").toPandas()\n",
        "\n",
        "# Create a bar plot of the sentiment score distribution\n",
        "plt.figure(figsize=(10, 6))\n",
        "sns.barplot(x='sentiment_score', y='count', data=sentiment_counts_pd, palette='viridis')\n",
        "plt.title('Distribution of Sentiment Scores')\n",
        "plt.xlabel('Sentiment Score')\n",
        "plt.ylabel('Frequency')\n",
        "plt.show()"
      ]
    },
    {
      "cell_type": "code",
      "execution_count": null,
      "metadata": {
        "colab": {
          "base_uri": "https://localhost:8080/"
        },
        "id": "4cdd33ea",
        "outputId": "a8c91c0a-b232-4d95-e0a9-5a08a4228106"
      },
      "outputs": [
        {
          "name": "stdout",
          "output_type": "stream",
          "text": [
            "Count of null values in 'main_category' column before dropping:\n",
            "Count of null values in 'sub_category' column before dropping:\n"
          ]
        },
        {
          "data": {
            "text/plain": [
              "3"
            ]
          },
          "execution_count": 12,
          "metadata": {},
          "output_type": "execute_result"
        }
      ],
      "source": [
        "from pyspark.sql.functions import col, count\n",
        "\n",
        "# Check for null values in 'main_category' and 'sub_category' columns\n",
        "print(\"Count of null values in 'main_category' column before dropping:\")\n",
        "spark_df.filter(col(\"main_category\").isNull()).count()\n",
        "\n",
        "print(\"Count of null values in 'sub_category' column before dropping:\")\n",
        "spark_df.filter(col(\"sub_category\").isNull()).count()"
      ]
    },
    {
      "cell_type": "markdown",
      "metadata": {
        "id": "d6f32d19"
      },
      "source": [
        "**Reasoning**:\n",
        "Drop rows with null values in 'main_category' or 'sub_category' and verify the removal.\n",
        "\n"
      ]
    },
    {
      "cell_type": "code",
      "execution_count": null,
      "metadata": {
        "colab": {
          "base_uri": "https://localhost:8080/"
        },
        "id": "8b94c082",
        "outputId": "f497af5d-0b46-4137-c429-54349b65f29b"
      },
      "outputs": [
        {
          "name": "stdout",
          "output_type": "stream",
          "text": [
            "Count of null values in 'main_category' column after dropping:\n",
            "Count of null values in 'sub_category' column after dropping:\n"
          ]
        },
        {
          "data": {
            "text/plain": [
              "0"
            ]
          },
          "execution_count": 13,
          "metadata": {},
          "output_type": "execute_result"
        }
      ],
      "source": [
        "# Drop rows where 'main_category' or 'sub_category' is null\n",
        "categorization_df = spark_df.dropna(subset=['main_category', 'sub_category'])\n",
        "\n",
        "# Verify null values in the 'main_category' and 'sub_category' columns after dropping\n",
        "print(\"Count of null values in 'main_category' column after dropping:\")\n",
        "categorization_df.filter(col(\"main_category\").isNull()).count()\n",
        "\n",
        "print(\"Count of null values in 'sub_category' column after dropping:\")\n",
        "categorization_df.filter(col(\"sub_category\").isNull()).count()"
      ]
    },
    {
      "cell_type": "markdown",
      "metadata": {
        "id": "4f86a91b"
      },
      "source": [
        "**Reasoning**:\n",
        "Select the 'name' column as the feature and 'main_category' as the label for the categorization task.\n",
        "\n"
      ]
    },
    {
      "cell_type": "code",
      "execution_count": null,
      "metadata": {
        "colab": {
          "base_uri": "https://localhost:8080/"
        },
        "id": "ebb22cd8",
        "outputId": "dc8e8836-76b8-4376-cb20-18d0f397f41f"
      },
      "outputs": [
        {
          "name": "stdout",
          "output_type": "stream",
          "text": [
            "+--------------------+-------------+\n",
            "|                name|main_category|\n",
            "+--------------------+-------------+\n",
            "|Lloyd 1.5 Ton 3 S...|   appliances|\n",
            "|LG 1.5 Ton 5 Star...|   appliances|\n",
            "|LG 1 Ton 4 Star A...|   appliances|\n",
            "|LG 1.5 Ton 3 Star...|   appliances|\n",
            "|Carrier 1.5 Ton 3...|   appliances|\n",
            "+--------------------+-------------+\n",
            "only showing top 5 rows\n",
            "\n"
          ]
        }
      ],
      "source": [
        "# Select the feature and label columns\n",
        "feature_column = \"name\"\n",
        "label_column = \"main_category\"\n",
        "\n",
        "# Select the relevant columns for categorization\n",
        "categorization_data = categorization_df.select(col(feature_column), col(label_column))\n",
        "\n",
        "# Display the first few rows of the selected data\n",
        "categorization_data.show(5)"
      ]
    },
    {
      "cell_type": "code",
      "execution_count": null,
      "metadata": {
        "colab": {
          "base_uri": "https://localhost:8080/"
        },
        "id": "cdc098fd",
        "outputId": "4970c4b9-e6ee-4e7d-ee8a-d5382384494a"
      },
      "outputs": [
        {
          "name": "stdout",
          "output_type": "stream",
          "text": [
            "root\n",
            " |-- name: string (nullable = true)\n",
            " |-- main_category: string (nullable = true)\n",
            " |-- words: array (nullable = true)\n",
            " |    |-- element: string (containsNull = true)\n",
            " |-- filtered_words: array (nullable = true)\n",
            " |    |-- element: string (containsNull = true)\n",
            " |-- raw_features: vector (nullable = true)\n",
            " |-- features: vector (nullable = true)\n",
            "\n",
            "+-----------------------------------------------------------------------------------------------------------------------------+------------------------------------------------------------------------------------------------------------------------------------------------+------------------------------------------------------------------------------------------------------------------------------------------------------------------------------------------------------+-------------------------------------------------------------------------------------------------------------------------------------------------------------------------------------------------------------------------------------------------------------------------------------------------------------------------------------------------------------------------------------------------------------------------------------------------------------------------------------------------------------+\n",
            "|name                                                                                                                         |filtered_words                                                                                                                                  |raw_features                                                                                                                                                                                          |features                                                                                                                                                                                                                                                                                                                                                                                                                                                                                                     |\n",
            "+-----------------------------------------------------------------------------------------------------------------------------+------------------------------------------------------------------------------------------------------------------------------------------------+------------------------------------------------------------------------------------------------------------------------------------------------------------------------------------------------------+-------------------------------------------------------------------------------------------------------------------------------------------------------------------------------------------------------------------------------------------------------------------------------------------------------------------------------------------------------------------------------------------------------------------------------------------------------------------------------------------------------------+\n",
            "|Lloyd 1.5 Ton 3 Star Inverter Split Ac (5 In 1 Convertible, Copper, Anti-Viral + Pm 2.5 Filter, 2023 Model, White, Gls18I3...|[lloyd, 1.5, ton, 3, star, inverter, split, ac, (5, 1, convertible,, copper,, anti-viral, +, pm, 2.5, filter,, 2023, model,, white,, gls18i3...]|(10000,[327,345,1093,2515,2551,2713,3180,3411,4206,5170,5247,5341,5763,5931,6256,7026,7394,7420,8299,8923,9665],[1.0,1.0,1.0,1.0,1.0,1.0,1.0,1.0,1.0,1.0,1.0,1.0,1.0,1.0,1.0,1.0,1.0,1.0,1.0,1.0,1.0])|(10000,[327,345,1093,2515,2551,2713,3180,3411,4206,5170,5247,5341,5763,5931,6256,7026,7394,7420,8299,8923,9665],[6.802182669055771,6.45320447972659,8.164301799643674,5.10383198017287,4.8753296783155555,6.145584407025939,5.787472256093403,5.7423779108321975,3.563216378079137,4.584682883858246,5.0884288320361755,6.5359358773240555,6.96671879341651,3.7096582948571952,7.804447202787562,7.445996059447574,5.795785843168773,7.067814910287878,7.516765130335782,6.11722554246587,8.132951269759598])|\n",
            "|LG 1.5 Ton 5 Star AI DUAL Inverter Split AC (Copper, Super Convertible 6-in-1 Cooling, HD Filter with Anti-Virus Protectio...|[lg, 1.5, ton, 5, star, ai, dual, inverter, split, ac, (copper,, super, convertible, 6-in-1, cooling,, hd, filter, anti-virus, protectio...]    |(10000,[522,1920,2068,2551,3180,3411,3733,4954,5020,5170,5247,5649,6435,6555,7233,7394,7741,8676,9359],[1.0,1.0,1.0,1.0,1.0,1.0,1.0,1.0,1.0,1.0,1.0,1.0,1.0,1.0,1.0,1.0,1.0,1.0,1.0])                 |(10000,[522,1920,2068,2551,3180,3411,3733,4954,5020,5170,5247,5649,6435,6555,7233,7394,7741,8676,9359],[6.686758767058639,5.509894281490781,6.338110133994135,4.8753296783155555,5.787472256093403,5.7423779108321975,7.015989842423292,7.5575871248560365,7.897537625853574,4.584682883858246,5.0884288320361755,5.117053326611013,4.666444059555648,4.167680091840364,4.983332901642494,5.795785843168773,3.986686037974454,7.947548046428236,7.826920058639621])                                          |\n",
            "|LG 1 Ton 4 Star Ai Dual Inverter Split Ac (Copper, Super Convertible 6-In-1 Cooling, Hd Filter With Anti Virus Protection,...|[lg, 1, ton, 4, star, ai, dual, inverter, split, ac, (copper,, super, convertible, 6-in-1, cooling,, hd, filter, anti, virus, protection,...]   |(10000,[522,1920,2068,2301,2551,3411,3733,5020,5170,5247,5649,5931,6435,6555,6803,7233,7394,8593,8676,9330],[1.0,1.0,1.0,1.0,1.0,1.0,1.0,1.0,1.0,1.0,1.0,1.0,1.0,1.0,1.0,1.0,1.0,1.0,1.0,1.0])        |(10000,[522,1920,2068,2301,2551,3411,3733,5020,5170,5247,5649,5931,6435,6555,6803,7233,7394,8593,8676,9330],[6.686758767058639,5.509894281490781,6.338110133994135,8.016540917915187,4.8753296783155555,5.7423779108321975,7.015989842423292,7.897537625853574,4.584682883858246,5.0884288320361755,5.117053326611013,3.7096582948571952,4.666444059555648,4.167680091840364,5.267229258431551,4.983332901642494,5.795785843168773,8.223335331227867,7.947548046428236,4.1173471085737035])                  |\n",
            "|LG 1.5 Ton 3 Star AI DUAL Inverter Split AC (Copper, Super Convertible 6-in-1 Cooling, HD Filter with Anti-Virus Protectio...|[lg, 1.5, ton, 3, star, ai, dual, inverter, split, ac, (copper,, super, convertible, 6-in-1, cooling,, hd, filter, anti-virus, protectio...]    |(10000,[522,1920,2068,2551,3180,3411,3733,4206,4954,5020,5170,5247,5649,6435,6555,7233,7394,8676,9359],[1.0,1.0,1.0,1.0,1.0,1.0,1.0,1.0,1.0,1.0,1.0,1.0,1.0,1.0,1.0,1.0,1.0,1.0,1.0])                 |(10000,[522,1920,2068,2551,3180,3411,3733,4206,4954,5020,5170,5247,5649,6435,6555,7233,7394,8676,9359],[6.686758767058639,5.509894281490781,6.338110133994135,4.8753296783155555,5.787472256093403,5.7423779108321975,7.015989842423292,3.563216378079137,7.5575871248560365,7.897537625853574,4.584682883858246,5.0884288320361755,5.117053326611013,4.666444059555648,4.167680091840364,4.983332901642494,5.795785843168773,7.947548046428236,7.826920058639621])                                          |\n",
            "|Carrier 1.5 Ton 3 Star Inverter Split AC (Copper,ESTER Dxi, 4-in-1 Flexicool Inverter, 2022 Model,R32,White)                 |[carrier, 1.5, ton, 3, star, inverter, split, ac, (copper,ester, dxi,, 4-in-1, flexicool, inverter,, 2022, model,r32,white)]                    |(10000,[2551,3180,3411,3804,4206,4296,5170,5247,6395,7147,7186,7394,8111,8298,9735],[1.0,1.0,1.0,1.0,1.0,1.0,1.0,1.0,1.0,1.0,1.0,1.0,1.0,1.0,1.0])                                                    |(10000,[2551,3180,3411,3804,4206,4296,5170,5247,6395,7147,7186,7394,8111,8298,9735],[4.8753296783155555,5.787472256093403,5.7423779108321975,7.699086687129736,3.563216378079137,5.958620512289231,4.584682883858246,5.0884288320361755,8.027590754101771,9.250255691439861,6.436090542354339,5.795785843168773,7.229083057884001,6.3391363013494475,8.330198476770228])                                                                                                                                     |\n",
            "+-----------------------------------------------------------------------------------------------------------------------------+------------------------------------------------------------------------------------------------------------------------------------------------+------------------------------------------------------------------------------------------------------------------------------------------------------------------------------------------------------+-------------------------------------------------------------------------------------------------------------------------------------------------------------------------------------------------------------------------------------------------------------------------------------------------------------------------------------------------------------------------------------------------------------------------------------------------------------------------------------------------------------+\n",
            "only showing top 5 rows\n",
            "\n"
          ]
        }
      ],
      "source": [
        "from pyspark.ml.feature import Tokenizer, StopWordsRemover, HashingTF, IDF\n",
        "\n",
        "# Tokenize the 'name' column\n",
        "tokenizer = Tokenizer(inputCol=\"name\", outputCol=\"words\")\n",
        "words_df = tokenizer.transform(categorization_data)\n",
        "\n",
        "# Remove stop words\n",
        "remover = StopWordsRemover(inputCol=\"words\", outputCol=\"filtered_words\")\n",
        "filtered_words_df = remover.transform(words_df)\n",
        "\n",
        "# Initialize and apply HashingTF\n",
        "hashing_tf = HashingTF(inputCol=\"filtered_words\", outputCol=\"raw_features\", numFeatures=10000)\n",
        "tf_df = hashing_tf.transform(filtered_words_df)\n",
        "\n",
        "# Initialize, fit and apply IDF\n",
        "idf = IDF(inputCol=\"raw_features\", outputCol=\"features\")\n",
        "tfidf_model = idf.fit(tf_df)\n",
        "tfidf_df = tfidf_model.transform(tf_df)\n",
        "\n",
        "# Display the schema and the first few rows of the resulting DataFrame\n",
        "tfidf_df.printSchema()\n",
        "tfidf_df.select(\"name\", \"filtered_words\", \"raw_features\", \"features\").show(5, truncate=False)"
      ]
    },
    {
      "cell_type": "code",
      "execution_count": null,
      "metadata": {
        "colab": {
          "base_uri": "https://localhost:8080/"
        },
        "id": "2fa695c7",
        "outputId": "922938f0-401e-4dfb-81f1-de3dde4e8d29"
      },
      "outputs": [
        {
          "name": "stdout",
          "output_type": "stream",
          "text": [
            "root\n",
            " |-- name: string (nullable = true)\n",
            " |-- main_category: string (nullable = true)\n",
            " |-- words: array (nullable = true)\n",
            " |    |-- element: string (containsNull = true)\n",
            " |-- filtered_words: array (nullable = true)\n",
            " |    |-- element: string (containsNull = true)\n",
            " |-- raw_features: vector (nullable = true)\n",
            " |-- features: vector (nullable = true)\n",
            " |-- label: double (nullable = false)\n",
            " |-- features_vector: vector (nullable = true)\n",
            "\n",
            "Training Data:\n",
            "+--------------------+--------------------+--------------------+--------------------+--------------------+--------------------+-----+--------------------+\n",
            "|                name|       main_category|               words|      filtered_words|        raw_features|            features|label|     features_vector|\n",
            "+--------------------+--------------------+--------------------+--------------------+--------------------+--------------------+-----+--------------------+\n",
            "|\"\"\"PH\"\" POSHAKHUB...|        Ankle Length|[\"\"\"ph\"\", poshakh...|[\"\"\"ph\"\", poshakh...|(10000,[65,2252,3...|(10000,[65,2252,3...|412.0|(10000,[65,2252,3...|\n",
            "|\"\"\"TGC\"\" Purple C...|         accessories|[\"\"\"tgc\"\", purple...|[\"\"\"tgc\"\", purple...|(10000,[426,1029,...|(10000,[426,1029,...|  0.0|(10000,[426,1029,...|\n",
            "|\"(Renewed) Fire-B...|  AI Voice Assistant|[\"(renewed), fire...|[\"(renewed), fire...|(10000,[2418,5926...|(10000,[2418,5926...|168.0|(10000,[2418,5926...|\n",
            "|\"19.7” Magic Arm,...| Adjustable Frict...|[\"19.7”, magic, a...|[\"19.7”, magic, a...|(10000,[459,697,8...|(10000,[459,697,8...|172.0|(10000,[459,697,8...|\n",
            "|\"3M Post-it Stick...|           reminders|[\"3m, post-it, st...|[\"3m, post-it, st...|(10000,[568,922,1...|(10000,[568,922,1...|288.0|(10000,[568,922,1...|\n",
            "+--------------------+--------------------+--------------------+--------------------+--------------------+--------------------+-----+--------------------+\n",
            "only showing top 5 rows\n",
            "\n",
            "Testing Data:\n",
            "+--------------------+--------------------+--------------------+--------------------+--------------------+--------------------+-----+--------------------+\n",
            "|                name|       main_category|               words|      filtered_words|        raw_features|            features|label|     features_vector|\n",
            "+--------------------+--------------------+--------------------+--------------------+--------------------+--------------------+-----+--------------------+\n",
            "|\"\"\"TGC\"\" Wine Col...|         accessories|[\"\"\"tgc\"\", wine, ...|[\"\"\"tgc\"\", wine, ...|(10000,[426,1029,...|(10000,[426,1029,...|  0.0|(10000,[426,1029,...|\n",
            "|\"3M Scotch Titani...| Non-Stick Blades...|[\"3m, scotch, tit...|[\"3m, scotch, tit...|(10000,[114,1064,...|(10000,[114,1064,...|584.0|(10000,[114,1064,...|\n",
            "|\"8 Feet Long Trip...| tv, audio & cameras|[\"8, feet, long, ...|[\"8, feet, long, ...|(10000,[97,111,42...|(10000,[97,111,42...|  3.0|(10000,[97,111,42...|\n",
            "|\"AJS spares \"\"MX-...|             Steel)\"|[\"ajs, spares, \"\"...|[\"ajs, spares, \"\"...|(10000,[167,962,1...|(10000,[167,962,1...| 25.0|(10000,[167,962,1...|\n",
            "|\"AUSHA® 360° 4 Ch...|         Parking...\"|[\"ausha®, 360°, 4...|[\"ausha®, 360°, 4...|(10000,[309,1650,...|(10000,[309,1650,...|598.0|(10000,[309,1650,...|\n",
            "+--------------------+--------------------+--------------------+--------------------+--------------------+--------------------+-----+--------------------+\n",
            "only showing top 5 rows\n",
            "\n"
          ]
        }
      ],
      "source": [
        "from pyspark.ml.feature import VectorAssembler, StringIndexer\n",
        "\n",
        "# Index the label column 'main_category'\n",
        "indexer = StringIndexer(inputCol=\"main_category\", outputCol=\"label\")\n",
        "indexed_df = indexer.fit(tfidf_df).transform(tfidf_df)\n",
        "\n",
        "# Assemble the features into a single vector\n",
        "assembler = VectorAssembler(inputCols=[\"features\"], outputCol=\"features_vector\")\n",
        "assembled_df = assembler.transform(indexed_df)\n",
        "\n",
        "# Sample a smaller subset of the data to avoid memory errors\n",
        "# Adjust the fraction (e.g., 0.1 for 10%) as needed\n",
        "sampled_df = assembled_df.sample(False, 0.1, seed=42)\n",
        "\n",
        "# Split the sampled data into training and testing sets\n",
        "(training_data, testing_data) = sampled_df.randomSplit([0.8, 0.2], seed=42)\n",
        "\n",
        "# Cache the training and testing data\n",
        "training_data.cache()\n",
        "testing_data.cache()\n",
        "\n",
        "# Display schema and show first rows\n",
        "training_data.printSchema()\n",
        "print(\"Training Data:\")\n",
        "training_data.show(5)\n",
        "print(\"Testing Data:\")\n",
        "testing_data.show(5)"
      ]
    },
    {
      "cell_type": "code",
      "execution_count": null,
      "metadata": {
        "colab": {
          "base_uri": "https://localhost:8080/"
        },
        "id": "d9c75306",
        "outputId": "9c078d12-2b17-4c31-9b92-6e2aa3432bcd"
      },
      "outputs": [
        {
          "name": "stdout",
          "output_type": "stream",
          "text": [
            "Multinomial Naive Bayes model initialized.\n"
          ]
        }
      ],
      "source": [
        "from pyspark.ml.classification import NaiveBayes\n",
        "\n",
        "# Initialize the MultinomialNB model\n",
        "nb = NaiveBayes(labelCol=\"label\", featuresCol=\"features_vector\")\n",
        "\n",
        "print(\"Multinomial Naive Bayes model initialized.\")"
      ]
    },
    {
      "cell_type": "code",
      "execution_count": null,
      "metadata": {
        "colab": {
          "base_uri": "https://localhost:8080/"
        },
        "id": "746acabf",
        "outputId": "40801543-8e88-4577-8f5b-290ef0c1faef"
      },
      "outputs": [
        {
          "name": "stdout",
          "output_type": "stream",
          "text": [
            "Accuracy on the test data: 0.7861351500644449\n",
            "F1 Score on the test data: 0.7998582300457255\n",
            "Weighted Precision on the test data: 0.8208010114706171\n",
            "Weighted Recall on the test data: 0.7861351500644448\n"
          ]
        }
      ],
      "source": [
        "from pyspark.ml.evaluation import MulticlassClassificationEvaluator\n",
        "\n",
        "# Train the Naive Bayes model\n",
        "model = nb.fit(training_data)\n",
        "\n",
        "# Make predictions on the testing data\n",
        "predictions = model.transform(testing_data)\n",
        "\n",
        "# Evaluate the model\n",
        "evaluator = MulticlassClassificationEvaluator(labelCol=\"label\", predictionCol=\"prediction\", metricName=\"accuracy\")\n",
        "accuracy = evaluator.evaluate(predictions)\n",
        "\n",
        "print(f\"Accuracy on the test data: {accuracy}\")\n",
        "\n",
        "# You can also evaluate other metrics like F1-score, precision, and recall\n",
        "evaluator_f1 = MulticlassClassificationEvaluator(labelCol=\"label\", predictionCol=\"prediction\", metricName=\"f1\")\n",
        "f1_score = evaluator_f1.evaluate(predictions)\n",
        "print(f\"F1 Score on the test data: {f1_score}\")\n",
        "\n",
        "evaluator_precision = MulticlassClassificationEvaluator(labelCol=\"label\", predictionCol=\"prediction\", metricName=\"weightedPrecision\")\n",
        "precision = evaluator_precision.evaluate(predictions)\n",
        "print(f\"Weighted Precision on the test data: {precision}\")\n",
        "\n",
        "evaluator_recall = MulticlassClassificationEvaluator(labelCol=\"label\", predictionCol=\"prediction\", metricName=\"weightedRecall\")\n",
        "recall = evaluator_recall.evaluate(predictions)\n",
        "print(f\"Weighted Recall on the test data: {recall}\")"
      ]
    },
    {
      "cell_type": "code",
      "execution_count": null,
      "metadata": {
        "colab": {
          "base_uri": "https://localhost:8080/"
        },
        "id": "aa6ee9b3",
        "outputId": "11892170-2df7-4556-ecae-3087f373dc5f"
      },
      "outputs": [
        {
          "name": "stdout",
          "output_type": "stream",
          "text": [
            "Accuracy on the test data: 0.7861351500644449\n",
            "F1 Score on the test data: 0.7998582300457255\n",
            "Weighted Precision on the test data: 0.8208010114706171\n",
            "Weighted Recall on the test data: 0.7861351500644448\n"
          ]
        }
      ],
      "source": [
        "from pyspark.ml.evaluation import MulticlassClassificationEvaluator\n",
        "\n",
        "# Train the Naive Bayes model\n",
        "model = nb.fit(training_data)\n",
        "\n",
        "# Make predictions on the testing data\n",
        "predictions = model.transform(testing_data)\n",
        "\n",
        "# Evaluate the model\n",
        "evaluator = MulticlassClassificationEvaluator(labelCol=\"label\", predictionCol=\"prediction\", metricName=\"accuracy\")\n",
        "accuracy = evaluator.evaluate(predictions)\n",
        "\n",
        "print(f\"Accuracy on the test data: {accuracy}\")\n",
        "\n",
        "# You can also evaluate other metrics like F1-score, precision, and recall\n",
        "evaluator_f1 = MulticlassClassificationEvaluator(labelCol=\"label\", predictionCol=\"prediction\", metricName=\"f1\")\n",
        "f1_score = evaluator_f1.evaluate(predictions)\n",
        "print(f\"F1 Score on the test data: {f1_score}\")\n",
        "\n",
        "evaluator_precision = MulticlassClassificationEvaluator(labelCol=\"label\", predictionCol=\"prediction\", metricName=\"weightedPrecision\")\n",
        "precision = evaluator_precision.evaluate(predictions)\n",
        "print(f\"Weighted Precision on the test data: {precision}\")\n",
        "\n",
        "evaluator_recall = MulticlassClassificationEvaluator(labelCol=\"label\", predictionCol=\"prediction\", metricName=\"weightedRecall\")\n",
        "recall = evaluator_recall.evaluate(predictions)\n",
        "print(f\"Weighted Recall on the test data: {recall}\")"
      ]
    },
    {
      "cell_type": "code",
      "execution_count": null,
      "metadata": {
        "colab": {
          "base_uri": "https://localhost:8080/"
        },
        "id": "22375686",
        "outputId": "d41d2a3a-e024-44ca-bff0-89c927117117"
      },
      "outputs": [
        {
          "name": "stdout",
          "output_type": "stream",
          "text": [
            "CrossValidator set up with parameter grid and evaluator.\n"
          ]
        }
      ],
      "source": [
        "from pyspark.ml.tuning import ParamGridBuilder, CrossValidator\n",
        "from pyspark.ml.evaluation import MulticlassClassificationEvaluator\n",
        "\n",
        "# Create ParamGrid for Cross Validation\n",
        "paramGrid = ParamGridBuilder() \\\n",
        "    .addGrid(nb.smoothing, [0.0, 0.2, 0.5, 1.0]) \\\n",
        "    .build()\n",
        "\n",
        "# Create an Evaluator\n",
        "evaluator = MulticlassClassificationEvaluator(labelCol=\"label\", predictionCol=\"prediction\", metricName=\"accuracy\")\n",
        "\n",
        "# Create CrossValidator\n",
        "cv = CrossValidator(estimator=nb,\n",
        "                    estimatorParamMaps=paramGrid,\n",
        "                    evaluator=evaluator,\n",
        "                    numFolds=3) # Use 3+ folds in practice\n",
        "\n",
        "print(\"CrossValidator set up with parameter grid and evaluator.\")"
      ]
    },
    {
      "cell_type": "code",
      "execution_count": null,
      "metadata": {
        "colab": {
          "base_uri": "https://localhost:8080/"
        },
        "id": "b642a4fa",
        "outputId": "8376ee19-634c-4648-bdae-327a5bc89770"
      },
      "outputs": [
        {
          "name": "stdout",
          "output_type": "stream",
          "text": [
            "Cross-validation completed and the best model is selected.\n"
          ]
        }
      ],
      "source": [
        "# Run cross-validation, and choose the best set of parameters.\n",
        "cv_model = cv.fit(training_data)\n",
        "\n",
        "print(\"Cross-validation completed and the best model is selected.\")"
      ]
    },
    {
      "cell_type": "code",
      "execution_count": null,
      "metadata": {
        "colab": {
          "base_uri": "https://localhost:8080/"
        },
        "id": "00a5e56e",
        "outputId": "9b9f0947-bc4d-4dc0-e31b-a311c2fc6148"
      },
      "outputs": [
        {
          "name": "stdout",
          "output_type": "stream",
          "text": [
            "Best model from cross-validation accessed.\n"
          ]
        }
      ],
      "source": [
        "# Get the best model from the CrossValidatorModel\n",
        "best_model = cv_model.bestModel\n",
        "\n",
        "print(\"Best model from cross-validation accessed.\")"
      ]
    },
    {
      "cell_type": "code",
      "execution_count": null,
      "metadata": {
        "colab": {
          "base_uri": "https://localhost:8080/"
        },
        "id": "86b5d8fd",
        "outputId": "27846e4a-3c25-4bf5-9751-fc37cd29e32c"
      },
      "outputs": [
        {
          "name": "stdout",
          "output_type": "stream",
          "text": [
            "+---------------------------------------------------------------------------------------------------------------------------------+--------------------------------------------------+----------+\n",
            "|name                                                                                                                             |main_category                                     |prediction|\n",
            "+---------------------------------------------------------------------------------------------------------------------------------+--------------------------------------------------+----------+\n",
            "|\"\"\"TGC\"\" Wine Colour Plain Matt Metal Bangle / Win Color Chudi Set for Women and Girl (Pack of 24 Bangles)\"                      |accessories                                       |0.0       |\n",
            "|\"3M Scotch Titanium Scissors | 8\"\" Multipurpose | Easy-Clean                                                                     | Non-Stick Blades | Ergonomic Handles | for Fabric|0.0       |\n",
            "|\"8 Feet Long Tripod Stand (84 Inch) with 10\"\" LED Ring Light Combo for Tiktok MX Taka tak Instagram Reels YouTube vlogging V...\" |tv, audio & cameras                               |3.0       |\n",
            "|\"AJS spares \"\"MX-116E/ MX-216E/ MX-113E\"\" Chutney jar Compatible for PANASONIC (Old Models) (500ml                               | Steel)\"                                          |23.0      |\n",
            "|\"AUSHA® 360° 4 Channel Dashboard Camera Full HD 12\"\" IPS Touch Mirror Screen Dash Camera with Enhanced Night Vision              | Parking...\"                                      |3.0       |\n",
            "|\"AirCase Premium Messenger Bag fits upto 15.6\"\" Laptop/Macbook with Handles & Detachable Shoulder Strap                          | Spacious Compartmen...\"                          |123.0     |\n",
            "|\"Akshita Remote Control Compatible for Mi LED Smart TV 4A (32\"\"/43\"\") Remote Control (Please Match The Image with Your Old Re...\"|tv, audio & cameras                               |3.0       |\n",
            "|\"Auto Oprema Frameless Flexible Car Wiper for Tata Indica Vista Size 24\"\" Driver Side and Passenger Side 16\"\"\"                   |car & motorbike                                   |12.0      |\n",
            "|\"CROSSVOLT Tempered Glass Screen Protector Compatible for Samsung Galaxy Watch 5 And Samsung Galaxy Watch 4 (44mm) (1.4\"\" in...\" |tv, audio & cameras                               |3.0       |\n",
            "|\"Capital 5 Micron 20\"\"X4\"\" Poly String Wound Sediment Filters Solid Filter Cartridge 20 Inch For Commercial Water Purifier (P...\"|appliances                                        |6.0       |\n",
            "+---------------------------------------------------------------------------------------------------------------------------------+--------------------------------------------------+----------+\n",
            "only showing top 10 rows\n",
            "\n"
          ]
        }
      ],
      "source": [
        "# Use the best model to make predictions on the testing data\n",
        "predictions = best_model.transform(testing_data)\n",
        "\n",
        "# Display the first few rows of the predictions DataFrame\n",
        "predictions.select(\"name\", \"main_category\", \"prediction\").show(10, truncate=False)"
      ]
    },
    {
      "cell_type": "code",
      "execution_count": null,
      "metadata": {
        "colab": {
          "base_uri": "https://localhost:8080/"
        },
        "id": "5d770664",
        "outputId": "6bfa2c13-62d6-4840-bb91-4ebcf9b895da"
      },
      "outputs": [
        {
          "name": "stdout",
          "output_type": "stream",
          "text": [
            "Cross-validation completed and the best model is selected.\n"
          ]
        }
      ],
      "source": [
        "# Run cross-validation, and choose the best set of parameters.\n",
        "cv_model = cv.fit(training_data)\n",
        "\n",
        "print(\"Cross-validation completed and the best model is selected.\")"
      ]
    },
    {
      "cell_type": "code",
      "execution_count": null,
      "metadata": {
        "colab": {
          "base_uri": "https://localhost:8080/"
        },
        "id": "564500e6",
        "outputId": "838e569c-d6ff-4c83-b94a-ce6ab0d67ea2"
      },
      "outputs": [
        {
          "name": "stdout",
          "output_type": "stream",
          "text": [
            "Best model from cross-validation accessed.\n"
          ]
        }
      ],
      "source": [
        "# Get the best model from the CrossValidatorModel\n",
        "best_model = cv_model.bestModel\n",
        "\n",
        "print(\"Best model from cross-validation accessed.\")"
      ]
    },
    {
      "cell_type": "code",
      "execution_count": null,
      "metadata": {
        "colab": {
          "base_uri": "https://localhost:8080/"
        },
        "id": "7d4a84f9",
        "outputId": "1f9a8cec-b0e1-4e04-a572-5ae503b1e5e6"
      },
      "outputs": [
        {
          "name": "stdout",
          "output_type": "stream",
          "text": [
            "+---------------------------------------------------------------------------------------------------------------------------------+--------------------------------------------------+----------+\n",
            "|name                                                                                                                             |main_category                                     |prediction|\n",
            "+---------------------------------------------------------------------------------------------------------------------------------+--------------------------------------------------+----------+\n",
            "|\"\"\"TGC\"\" Wine Colour Plain Matt Metal Bangle / Win Color Chudi Set for Women and Girl (Pack of 24 Bangles)\"                      |accessories                                       |0.0       |\n",
            "|\"3M Scotch Titanium Scissors | 8\"\" Multipurpose | Easy-Clean                                                                     | Non-Stick Blades | Ergonomic Handles | for Fabric|0.0       |\n",
            "|\"8 Feet Long Tripod Stand (84 Inch) with 10\"\" LED Ring Light Combo for Tiktok MX Taka tak Instagram Reels YouTube vlogging V...\" |tv, audio & cameras                               |3.0       |\n",
            "|\"AJS spares \"\"MX-116E/ MX-216E/ MX-113E\"\" Chutney jar Compatible for PANASONIC (Old Models) (500ml                               | Steel)\"                                          |23.0      |\n",
            "|\"AUSHA® 360° 4 Channel Dashboard Camera Full HD 12\"\" IPS Touch Mirror Screen Dash Camera with Enhanced Night Vision              | Parking...\"                                      |3.0       |\n",
            "|\"AirCase Premium Messenger Bag fits upto 15.6\"\" Laptop/Macbook with Handles & Detachable Shoulder Strap                          | Spacious Compartmen...\"                          |123.0     |\n",
            "|\"Akshita Remote Control Compatible for Mi LED Smart TV 4A (32\"\"/43\"\") Remote Control (Please Match The Image with Your Old Re...\"|tv, audio & cameras                               |3.0       |\n",
            "|\"Auto Oprema Frameless Flexible Car Wiper for Tata Indica Vista Size 24\"\" Driver Side and Passenger Side 16\"\"\"                   |car & motorbike                                   |12.0      |\n",
            "|\"CROSSVOLT Tempered Glass Screen Protector Compatible for Samsung Galaxy Watch 5 And Samsung Galaxy Watch 4 (44mm) (1.4\"\" in...\" |tv, audio & cameras                               |3.0       |\n",
            "|\"Capital 5 Micron 20\"\"X4\"\" Poly String Wound Sediment Filters Solid Filter Cartridge 20 Inch For Commercial Water Purifier (P...\"|appliances                                        |6.0       |\n",
            "+---------------------------------------------------------------------------------------------------------------------------------+--------------------------------------------------+----------+\n",
            "only showing top 10 rows\n",
            "\n"
          ]
        }
      ],
      "source": [
        "# Use the best model to make predictions on the testing data\n",
        "predictions = best_model.transform(testing_data)\n",
        "\n",
        "# Display the first few rows of the predictions DataFrame\n",
        "predictions.select(\"name\", \"main_category\", \"prediction\").show(10, truncate=False)"
      ]
    },
    {
      "cell_type": "code",
      "execution_count": null,
      "metadata": {
        "colab": {
          "base_uri": "https://localhost:8080/"
        },
        "id": "6787016b",
        "outputId": "81869118-fd76-4e2b-9854-897a9c175a29"
      },
      "outputs": [
        {
          "name": "stdout",
          "output_type": "stream",
          "text": [
            "+---------------------------------------------------------------------------------------------------------------------------------+--------------------------------------------------+-------------------+----------+\n",
            "|name                                                                                                                             |main_category                                     |predictedLabel     |prediction|\n",
            "+---------------------------------------------------------------------------------------------------------------------------------+--------------------------------------------------+-------------------+----------+\n",
            "|\"\"\"TGC\"\" Wine Colour Plain Matt Metal Bangle / Win Color Chudi Set for Women and Girl (Pack of 24 Bangles)\"                      |accessories                                       |accessories        |0.0       |\n",
            "|\"3M Scotch Titanium Scissors | 8\"\" Multipurpose | Easy-Clean                                                                     | Non-Stick Blades | Ergonomic Handles | for Fabric|accessories        |0.0       |\n",
            "|\"8 Feet Long Tripod Stand (84 Inch) with 10\"\" LED Ring Light Combo for Tiktok MX Taka tak Instagram Reels YouTube vlogging V...\" |tv, audio & cameras                               |tv, audio & cameras|3.0       |\n",
            "|\"AJS spares \"\"MX-116E/ MX-216E/ MX-113E\"\" Chutney jar Compatible for PANASONIC (Old Models) (500ml                               | Steel)\"                                          | Functional Crown  |23.0      |\n",
            "|\"AUSHA® 360° 4 Channel Dashboard Camera Full HD 12\"\" IPS Touch Mirror Screen Dash Camera with Enhanced Night Vision              | Parking...\"                                      |tv, audio & cameras|3.0       |\n",
            "|\"AirCase Premium Messenger Bag fits upto 15.6\"\" Laptop/Macbook with Handles & Detachable Shoulder Strap                          | Spacious Compartmen...\"                          | SJCAM             |123.0     |\n",
            "|\"Akshita Remote Control Compatible for Mi LED Smart TV 4A (32\"\"/43\"\") Remote Control (Please Match The Image with Your Old Re...\"|tv, audio & cameras                               |tv, audio & cameras|3.0       |\n",
            "|\"Auto Oprema Frameless Flexible Car Wiper for Tata Indica Vista Size 24\"\" Driver Side and Passenger Side 16\"\"\"                   |car & motorbike                                   |car & motorbike    |12.0      |\n",
            "|\"CROSSVOLT Tempered Glass Screen Protector Compatible for Samsung Galaxy Watch 5 And Samsung Galaxy Watch 4 (44mm) (1.4\"\" in...\" |tv, audio & cameras                               |tv, audio & cameras|3.0       |\n",
            "|\"Capital 5 Micron 20\"\"X4\"\" Poly String Wound Sediment Filters Solid Filter Cartridge 20 Inch For Commercial Water Purifier (P...\"|appliances                                        |appliances         |6.0       |\n",
            "+---------------------------------------------------------------------------------------------------------------------------------+--------------------------------------------------+-------------------+----------+\n",
            "only showing top 10 rows\n",
            "\n"
          ]
        }
      ],
      "source": [
        "from pyspark.ml.feature import IndexToString\n",
        "\n",
        "# Create IndexToString transformer to map the prediction index back to the original label\n",
        "# We need to fit it on the DataFrame that has both the indexed label and the original string label\n",
        "labelConverter = IndexToString(inputCol=\"prediction\", outputCol=\"predictedLabel\",\n",
        "                               labels=indexer.fit(tfidf_df).labels)\n",
        "\n",
        "# Transform the predictions DataFrame to add the original predicted labels\n",
        "predictions_with_labels = labelConverter.transform(predictions)\n",
        "\n",
        "# Display the results with original and predicted labels\n",
        "predictions_with_labels.select(\"name\", \"main_category\", \"predictedLabel\", \"prediction\").show(10, truncate=False)"
      ]
    },
    {
      "cell_type": "code",
      "execution_count": null,
      "metadata": {
        "colab": {
          "base_uri": "https://localhost:8080/"
        },
        "id": "17d31ac3",
        "outputId": "f71286df-6bee-4da7-a455-141b72fdbc7e"
      },
      "outputs": [
        {
          "name": "stdout",
          "output_type": "stream",
          "text": [
            "Overall Accuracy: 0.7861351500644449\n",
            "Overall F1 Score: 0.7998582300457255\n",
            "Overall Weighted Precision: 0.8208010114706171\n",
            "Overall Weighted Recall: 0.7861351500644448\n"
          ]
        },
        {
          "name": "stderr",
          "output_type": "stream",
          "text": [
            "/usr/local/lib/python3.12/dist-packages/pyspark/sql/context.py:158: FutureWarning: Deprecated in 3.0.0. Use SparkSession.builder.getOrCreate() instead.\n",
            "  warnings.warn(\n"
          ]
        },
        {
          "name": "stdout",
          "output_type": "stream",
          "text": [
            "Confusion Matrix:\n",
            "[[1.798e+03 2.000e+00 8.000e+00 ... 0.000e+00 0.000e+00 0.000e+00]\n",
            " [1.000e+00 1.403e+03 2.600e+01 ... 0.000e+00 0.000e+00 0.000e+00]\n",
            " [7.000e+00 8.800e+01 1.311e+03 ... 0.000e+00 0.000e+00 0.000e+00]\n",
            " ...\n",
            " [1.000e+00 0.000e+00 0.000e+00 ... 0.000e+00 0.000e+00 0.000e+00]\n",
            " [0.000e+00 0.000e+00 0.000e+00 ... 0.000e+00 0.000e+00 0.000e+00]\n",
            " [0.000e+00 0.000e+00 0.000e+00 ... 0.000e+00 0.000e+00 0.000e+00]]\n",
            "Metrics by label:\n",
            "--- Class 0 (accessories) ---\n",
            "Precision = 0.9117647058823529\n",
            "Recall = 0.7746660922016372\n",
            "F1 Score = 0.8376426741206615\n",
            "--- Class 584 ( Non-Stick Blades | Ergonomic Handles | for Fabric) ---\n",
            "Precision = 0.0\n",
            "Recall = 0.0\n",
            "F1 Score = 0.0\n",
            "--- Class 598 ( Parking...\") ---\n",
            "Precision = 0.0\n",
            "Recall = 0.0\n",
            "F1 Score = 0.0\n",
            "--- Class 680 ( Spacious Compartmen...\") ---\n",
            "Precision = 0.0\n",
            "Recall = 0.0\n",
            "F1 Score = 0.0\n",
            "--- Class 12 (car & motorbike) ---\n",
            "Precision = 0.6046511627906976\n",
            "Recall = 0.7536231884057971\n",
            "F1 Score = 0.6709677419354838\n",
            "--- Class 6 (appliances) ---\n",
            "Precision = 0.9059561128526645\n",
            "Recall = 0.8437956204379562\n",
            "F1 Score = 0.873771730914588\n",
            "--- Class 2 (women's clothing) ---\n",
            "Precision = 0.9317697228144989\n",
            "Recall = 0.8642056690837179\n",
            "F1 Score = 0.8967168262653898\n",
            "--- Class 34 ( AV) ---\n",
            "Precision = 0.0\n",
            "Recall = 0.0\n",
            "F1 Score = 0.0\n",
            "--- Class 70 ( Phone Holder) ---\n",
            "Precision = 0.0\n",
            "Recall = 0.0\n",
            "F1 Score = 0.0\n",
            "--- Class 576 ( Multi-Color) Made in India\") ---\n",
            "Precision = 0.0\n",
            "Recall = 0.0\n",
            "F1 Score = 0.0\n",
            "--- Class 114 ( Multicolor)\") ---\n",
            "Precision = 0.0\n",
            "Recall = 0.0\n",
            "F1 Score = 0.0\n",
            "--- Class 10 (bags & luggage) ---\n",
            "Precision = 0.3314121037463977\n",
            "Recall = 0.6052631578947368\n",
            "F1 Score = 0.4283054003724395\n",
            "--- Class 4 (men's shoes) ---\n",
            "Precision = 0.8308370044052863\n",
            "Recall = 0.8487848784878488\n",
            "F1 Score = 0.8397150489759573\n",
            "--- Class 16 (grocery & gourmet foods) ---\n",
            "Precision = 0.6835443037974683\n",
            "Recall = 0.8571428571428571\n",
            "F1 Score = 0.7605633802816901\n",
            "--- Class 8 (kids' fashion) ---\n",
            "Precision = 0.5597014925373134\n",
            "Recall = 0.5703422053231939\n",
            "F1 Score = 0.5649717514124294\n",
            "--- Class 14 (women's shoes) ---\n",
            "Precision = 0.5714285714285714\n",
            "Recall = 0.8148148148148148\n",
            "F1 Score = 0.6717557251908397\n",
            "--- Class 468 ( Complete With Head Assembly) ---\n",
            "Precision = 0.0\n",
            "Recall = 0.0\n",
            "F1 Score = 0.0\n",
            "--- Class 22 ( Black\") ---\n",
            "Precision = 0.0\n",
            "Recall = 0.0\n",
            "F1 Score = 0.0\n",
            "--- Class 18 (music) ---\n",
            "Precision = 0.23214285714285715\n",
            "Recall = 0.5909090909090909\n",
            "F1 Score = 0.3333333333333334\n",
            "--- Class 3 (tv, audio & cameras) ---\n",
            "Precision = 0.9598360655737705\n",
            "Recall = 0.8528769118718136\n",
            "F1 Score = 0.9032009255688392\n",
            "--- Class 25 ( Steel)\") ---\n",
            "Precision = 0.0\n",
            "Recall = 0.0\n",
            "F1 Score = 0.0\n",
            "--- Class 583 ( Navy\") ---\n",
            "Precision = 0.0\n",
            "Recall = 0.0\n",
            "F1 Score = 0.0\n",
            "--- Class 19 ( Canvas) ---\n",
            "Precision = 0.2222222222222222\n",
            "Recall = 1.0\n",
            "F1 Score = 0.3636363636363636\n",
            "--- Class 115 ( Outside Garden Watering) ---\n",
            "Precision = 0.0\n",
            "Recall = 0.0\n",
            "F1 Score = 0.0\n",
            "--- Class 119 ( Pink & White)\") ---\n",
            "Precision = 0.0\n",
            "Recall = 0.0\n",
            "F1 Score = 0.0\n",
            "--- Class 483 ( Door Accessories |Antique Brass | Only for Doubl...\") ---\n",
            "Precision = 0.0\n",
            "Recall = 0.0\n",
            "F1 Score = 0.0\n",
            "--- Class 69 ( Makeup) ---\n",
            "Precision = 0.0\n",
            "Recall = 0.0\n",
            "F1 Score = 0.0\n",
            "--- Class 105 ( Hold 35 Lbs Heavy Duty) ---\n",
            "Precision = 0.0\n",
            "Recall = 0.0\n",
            "F1 Score = 0.0\n",
            "--- Class 7 (home & kitchen) ---\n",
            "Precision = 0.5993690851735016\n",
            "Recall = 0.662020905923345\n",
            "F1 Score = 0.6291390728476821\n",
            "--- Class 9 (sports & fitness) ---\n",
            "Precision = 0.5341365461847389\n",
            "Recall = 0.6045454545454545\n",
            "F1 Score = 0.5671641791044776\n",
            "--- Class 11 (beauty & health) ---\n",
            "Precision = 0.7237569060773481\n",
            "Recall = 0.6931216931216931\n",
            "F1 Score = 0.7081081081081082\n",
            "--- Class 17 (pet supplies) ---\n",
            "Precision = 0.463768115942029\n",
            "Recall = 0.8648648648648649\n",
            "F1 Score = 0.6037735849056604\n",
            "--- Class 1 (men's clothing) ---\n",
            "Precision = 0.8930617441120305\n",
            "Recall = 0.9242424242424242\n",
            "F1 Score = 0.9083845904823566\n",
            "--- Class 5 (stores) ---\n",
            "Precision = 0.3376146788990826\n",
            "Recall = 0.3087248322147651\n",
            "F1 Score = 0.32252410166520595\n",
            "--- Class 13 (toys & baby products) ---\n",
            "Precision = 0.6788321167883211\n",
            "Recall = 0.7209302325581395\n",
            "F1 Score = 0.6992481203007519\n",
            "--- Class 15 (industrial supplies) ---\n",
            "Precision = 0.45098039215686275\n",
            "Recall = 0.6388888888888888\n",
            "F1 Score = 0.5287356321839081\n",
            "--- Class 133 (120+ Sports Modes) ---\n",
            "Precision = 0.0\n",
            "Recall = 0.0\n",
            "F1 Score = 0.0\n",
            "--- Class 347 ( 200 g\") ---\n",
            "Precision = 0.0\n",
            "Recall = 0.0\n",
            "F1 Score = 0.0\n",
            "--- Class 101 ( Gold) ---\n",
            "Precision = 0.0\n",
            "Recall = 0.0\n",
            "F1 Score = 0.0\n",
            "--- Class 205 ( Heart Rate) ---\n",
            "Precision = 0.0\n",
            "Recall = 0.0\n",
            "F1 Score = 0.0\n",
            "--- Class 289 ( up to 6.4\"\" Mobile...\") ---\n",
            "Precision = 0.0\n",
            "Recall = 0.0\n",
            "F1 Score = 0.0\n"
          ]
        }
      ],
      "source": [
        "from pyspark.ml.evaluation import MulticlassClassificationEvaluator\n",
        "from pyspark.mllib.evaluation import MulticlassMetrics\n",
        "\n",
        "# Evaluate the model on the test data with detailed metrics\n",
        "evaluator = MulticlassClassificationEvaluator(labelCol=\"label\", predictionCol=\"prediction\")\n",
        "\n",
        "# Calculate and print weighted and overall metrics\n",
        "accuracy = evaluator.evaluate(predictions, {evaluator.metricName: \"accuracy\"})\n",
        "f1_score = evaluator.evaluate(predictions, {evaluator.metricName: \"f1\"})\n",
        "weighted_precision = evaluator.evaluate(predictions, {evaluator.metricName: \"weightedPrecision\"})\n",
        "weighted_recall = evaluator.evaluate(predictions, {evaluator.metricName: \"weightedRecall\"})\n",
        "\n",
        "print(f\"Overall Accuracy: {accuracy}\")\n",
        "print(f\"Overall F1 Score: {f1_score}\")\n",
        "print(f\"Overall Weighted Precision: {weighted_precision}\")\n",
        "print(f\"Overall Weighted Recall: {weighted_recall}\")\n",
        "\n",
        "# To get per-class metrics, we can generate a confusion matrix and calculate manually\n",
        "# This requires collecting a potentially large amount of data to the driver\n",
        "\n",
        "# Convert predictions to RDD of (prediction, label) pairs\n",
        "predictionAndLabels = predictions.select(\"prediction\", \"label\").rdd.map(lambda row: (float(row.prediction), float(row.label)))\n",
        "\n",
        "# Instantiate metrics object\n",
        "metrics = MulticlassMetrics(predictionAndLabels)\n",
        "\n",
        "# Print confusion matrix\n",
        "print(\"Confusion Matrix:\")\n",
        "print(metrics.confusionMatrix().toArray())\n",
        "\n",
        "# Print metrics by label\n",
        "print(\"Metrics by label:\")\n",
        "# Get the unique labels present in the predictionAndLabels RDD\n",
        "unique_labels_in_rdd = predictionAndLabels.map(lambda x: x[1]).distinct().collect()\n",
        "\n",
        "# Get the original string labels from the indexer\n",
        "original_labels = indexer.fit(tfidf_df).labels\n",
        "\n",
        "for label in unique_labels_in_rdd:\n",
        "    # Ensure the label is within the bounds of original_labels list\n",
        "    if int(label) < len(original_labels):\n",
        "        print(f\"--- Class {int(label)} ({original_labels[int(label)]}) ---\")\n",
        "        precision = metrics.precision(label)\n",
        "        recall = metrics.recall(label)\n",
        "        print(f\"Precision = {precision}\")\n",
        "        print(f\"Recall = {recall}\")\n",
        "        # Calculate F1 score manually\n",
        "        if (precision + recall) == 0:\n",
        "            f1 = 0.0\n",
        "        else:\n",
        "            f1 = 2 * (precision * recall) / (precision + recall)\n",
        "        print(f\"F1 Score = {f1}\")\n",
        "    else:\n",
        "        print(f\"--- Class {int(label)} (Label index out of bounds) ---\")"
      ]
    }
  ],
  "metadata": {
    "colab": {
      "provenance": []
    },
    "kernelspec": {
      "display_name": "Python 3",
      "name": "python3"
    },
    "language_info": {
      "name": "python"
    }
  },
  "nbformat": 4,
  "nbformat_minor": 0
}
